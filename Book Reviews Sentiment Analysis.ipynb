{
 "cells": [
  {
   "cell_type": "markdown",
   "id": "5d56d8d5",
   "metadata": {},
   "source": [
    "Data Class"
   ]
  },
  {
   "cell_type": "code",
   "execution_count": 251,
   "id": "3fd87116",
   "metadata": {},
   "outputs": [],
   "source": [
    "import random\n",
    "\n",
    "class Sentiment:\n",
    "    NEGATIVE = \"NEGATIVE\"\n",
    "    NEUTRAL = \"NEUTRAL\"\n",
    "    POSITIVE = \"POSITIVE\"\n",
    "\n",
    "\n",
    "class Review:\n",
    "    def __init__(self, text, score):\n",
    "        self.text = text\n",
    "        self.score = score\n",
    "        self.sentiment = self.get_sentiment()\n",
    "        \n",
    "    def get_sentiment(self):\n",
    "        if self.score <= 2:\n",
    "            return Sentiment.NEGATIVE\n",
    "        elif self.score == 3:\n",
    "            return Sentiment.NEUTRAL\n",
    "        else: #Score is either 4 or 5\n",
    "            return Sentiment.POSITIVE\n",
    "        \n",
    "  "
   ]
  },
  {
   "cell_type": "markdown",
   "id": "bb3d5f61",
   "metadata": {},
   "source": [
    "Data"
   ]
  },
  {
   "cell_type": "code",
   "execution_count": 252,
   "id": "0d90ac1e",
   "metadata": {},
   "outputs": [
    {
     "data": {
      "text/plain": [
       "'most likley, if you are looking through reviews and you came across this book, you might (sooner or later) come across my other review for THE Bro Code.both are hilariousi would recommend this to any How I Met Your Mother fan.'"
      ]
     },
     "execution_count": 252,
     "metadata": {},
     "output_type": "execute_result"
    }
   ],
   "source": [
    "import json\n",
    "\n",
    "file_name = '/Users/farrahkim/Documents/books/books_small_10000.json'\n",
    "\n",
    "\n",
    "reviews = []\n",
    "with open(file_name) as f:\n",
    "    for line in f:\n",
    "        review = json.loads(line)\n",
    "        reviews.append(Review(review['reviewText'], review['overall']))\n",
    "        \n",
    "reviews[42].sentiment\n",
    "reviews[42].text\n",
    "        \n"
   ]
  },
  {
   "cell_type": "markdown",
   "id": "9a76dc00",
   "metadata": {},
   "source": [
    "Train / Test Split"
   ]
  },
  {
   "cell_type": "code",
   "execution_count": 253,
   "id": "297df151",
   "metadata": {},
   "outputs": [],
   "source": [
    "#split 10000 reviews into a training set and test set 70:30\n",
    "from sklearn.model_selection import train_test_split\n",
    "\n",
    "training, test = train_test_split(reviews, test_size=0.30, random_state=42)\n"
   ]
  },
  {
   "cell_type": "code",
   "execution_count": 254,
   "id": "c333bb15",
   "metadata": {},
   "outputs": [],
   "source": [
    "train_x = [x.text for x in training]\n",
    "train_y = [x.sentiment for x in training]\n",
    "\n",
    "test_x = [x.text for x in test]\n",
    "test_y = [x.sentiment for x in test]\n"
   ]
  },
  {
   "cell_type": "markdown",
   "id": "481fb173",
   "metadata": {},
   "source": [
    "TF-IDF Vectorization"
   ]
  },
  {
   "cell_type": "code",
   "execution_count": 255,
   "id": "e7f66e1d",
   "metadata": {},
   "outputs": [
    {
     "name": "stdout",
     "output_type": "stream",
     "text": [
      "I had to think long and hard about what I wanted to write for my review.  The author makes a point several times in her book to say that it is easier to criticize then be uplifting and happy.However I will start with a little criticism and finish with happy.  I found that author to be a generally negative person who portrays herself as someone who snaps at people a lot of generally has a negative, or critical attitude.  Those things really put me off from the book and at times I wondered why I was punishing myself to finish the book.However I did glean several things from it:1) a recommendation of the next book I want to read &#34;The Story of a Soul&#34;2) I learned that hugging for 6 seconds is the minimum to gain the positive effects from the action3) To remember that the years are short4) Enjoy the present5) Portraying yourself as happy can indeed make you happierI don't want to continue for it might spoil the rest of the book.I struggled with whether to say I would recommend this book.  Initially I would have said &#34;HECK NO&#34; but after completion I think there are plenty of people who can relate to her and take up some of her suggestions.  She can be a bit repetitive and can at times seem trite with the things she did...but this was HER project and these were things that she thought might make HER happy (I wouldn't need to copy them exactly myself just the spirit would need to be imitated).So I say yes I would recommend it but read it in small doses :)\n",
      "  (0, 27157)\t0.06205868218316072\n",
      "  (0, 27141)\t0.025284193112654868\n",
      "  (0, 27113)\t0.058030696496247675\n",
      "  (0, 27099)\t0.045665467094443045\n",
      "  (0, 27001)\t0.05713112712841296\n",
      "  (0, 26957)\t0.06616131079321533\n",
      "  (0, 26956)\t0.13006016282279095\n",
      "  (0, 26855)\t0.08214472460804986\n",
      "  (0, 26801)\t0.09201352223210364\n",
      "  (0, 26704)\t0.030876035707149366\n",
      "  (0, 26654)\t0.0470236900339378\n",
      "  (0, 26630)\t0.09670991046523152\n",
      "  (0, 26579)\t0.06419310929399212\n",
      "  (0, 26553)\t0.029817487310024215\n",
      "  (0, 26525)\t0.036572240785045944\n",
      "  (0, 26361)\t0.04300148008795947\n",
      "  (0, 26314)\t0.05014508125141849\n",
      "  (0, 26313)\t0.07968579482942982\n",
      "  (0, 25759)\t0.08889572403515159\n",
      "  (0, 25741)\t0.03280963795216765\n",
      "  (0, 25085)\t0.0972575971626434\n",
      "  (0, 24685)\t0.21915053377406857\n",
      "  (0, 24633)\t0.1402369279578253\n",
      "  (0, 24487)\t0.04390197495619337\n",
      "  (0, 24482)\t0.04449538800405615\n",
      "  :\t:\n",
      "  (0, 7810)\t0.07564246869228913\n",
      "  (0, 7466)\t0.09945705749239078\n",
      "  (0, 7415)\t0.04038933504673805\n",
      "  (0, 6954)\t0.07649422537603258\n",
      "  (0, 5983)\t0.09945705749239078\n",
      "  (0, 5982)\t0.08400434181978095\n",
      "  (0, 5980)\t0.08004138935178388\n",
      "  (0, 5667)\t0.05425283525259134\n",
      "  (0, 5546)\t0.06043423095416396\n",
      "  (0, 5205)\t0.09236621494727275\n",
      "  (0, 3926)\t0.11672580098745229\n",
      "  (0, 3767)\t0.06892063931764496\n",
      "  (0, 3212)\t0.10759613336403967\n",
      "  (0, 2926)\t0.044394436512069264\n",
      "  (0, 2521)\t0.10749785129435839\n",
      "  (0, 2119)\t0.06772911948503962\n",
      "  (0, 2046)\t0.07633200681363331\n",
      "  (0, 1985)\t0.09134794854781336\n",
      "  (0, 1836)\t0.05324831785542814\n",
      "  (0, 1700)\t0.055619434847381626\n",
      "  (0, 1357)\t0.10395186878194071\n",
      "  (0, 927)\t0.04031742047971135\n",
      "  (0, 700)\t0.11051085250550585\n",
      "  (0, 539)\t0.02943330976826752\n",
      "  (0, 287)\t0.1600659114445563\n"
     ]
    }
   ],
   "source": [
    "from sklearn.feature_extraction.text import TfidfVectorizer\n",
    "\n",
    "vectorizer = TfidfVectorizer()\n",
    "train_x_vectors = vectorizer.fit_transform(train_x)\n",
    "\n",
    "train_x_vectors = vectorizer.transform(train_x)\n",
    "\n",
    "test_x_vectors = vectorizer.transform(test_x)\n",
    "\n",
    "print (train_x[0])\n",
    "print (train_x_vectors[0])\n"
   ]
  },
  {
   "cell_type": "markdown",
   "id": "8c3295f2",
   "metadata": {},
   "source": [
    "Classification : SVM"
   ]
  },
  {
   "cell_type": "code",
   "execution_count": 256,
   "id": "1637b6fd",
   "metadata": {},
   "outputs": [
    {
     "data": {
      "text/plain": [
       "array(['POSITIVE'], dtype='<U8')"
      ]
     },
     "execution_count": 256,
     "metadata": {},
     "output_type": "execute_result"
    }
   ],
   "source": [
    "from sklearn import svm\n",
    "\n",
    "clf_svm = svm.SVC(kernel = 'linear')\n",
    "\n",
    "clf_svm.fit(train_x_vectors, train_y)\n",
    "\n",
    "test_x[0]\n",
    "\n",
    "\n",
    "clf_svm.predict(test_x_vectors[0])"
   ]
  },
  {
   "cell_type": "markdown",
   "id": "189b5e39",
   "metadata": {},
   "source": [
    "Classification : Decision Tree"
   ]
  },
  {
   "cell_type": "code",
   "execution_count": 257,
   "id": "ced0ea9f",
   "metadata": {},
   "outputs": [
    {
     "data": {
      "text/plain": [
       "array(['POSITIVE'], dtype='<U8')"
      ]
     },
     "execution_count": 257,
     "metadata": {},
     "output_type": "execute_result"
    }
   ],
   "source": [
    "from sklearn.tree import DecisionTreeClassifier\n",
    "\n",
    "clf_dectree = DecisionTreeClassifier()\n",
    "clf_dectree.fit(train_x_vectors,train_y)\n",
    "\n",
    "clf_dectree.predict(test_x_vectors[0])"
   ]
  },
  {
   "cell_type": "markdown",
   "id": "47313a9e",
   "metadata": {},
   "source": [
    "Classification : Gaussian Naive Bayes"
   ]
  },
  {
   "cell_type": "code",
   "execution_count": 258,
   "id": "74107971",
   "metadata": {},
   "outputs": [
    {
     "data": {
      "text/plain": [
       "array(['POSITIVE'], dtype='<U8')"
      ]
     },
     "execution_count": 258,
     "metadata": {},
     "output_type": "execute_result"
    }
   ],
   "source": [
    "from sklearn.naive_bayes import GaussianNB\n",
    "\n",
    "clf_gnb = DecisionTreeClassifier()\n",
    "clf_gnb.fit(train_x_vectors, train_y)\n",
    "\n",
    "clf_gnb.predict(test_x_vectors[0])"
   ]
  },
  {
   "cell_type": "markdown",
   "id": "d26daeb8",
   "metadata": {},
   "source": [
    "Classification : Logistic Regression"
   ]
  },
  {
   "cell_type": "code",
   "execution_count": 259,
   "id": "b5893c08",
   "metadata": {},
   "outputs": [
    {
     "data": {
      "text/plain": [
       "array(['POSITIVE'], dtype='<U8')"
      ]
     },
     "execution_count": 259,
     "metadata": {},
     "output_type": "execute_result"
    }
   ],
   "source": [
    "from sklearn.linear_model import LogisticRegression\n",
    "\n",
    "clf_logreg = LogisticRegression()\n",
    "clf_logreg.fit(train_x_vectors, train_y)\n",
    "\n",
    "clf_logreg.predict(test_x_vectors[0])"
   ]
  },
  {
   "cell_type": "code",
   "execution_count": null,
   "id": "4632d586",
   "metadata": {},
   "outputs": [],
   "source": [
    "Classification : Nearest Centroid"
   ]
  },
  {
   "cell_type": "code",
   "execution_count": 260,
   "id": "62483009",
   "metadata": {},
   "outputs": [
    {
     "data": {
      "text/plain": [
       "array(['POSITIVE'], dtype='<U8')"
      ]
     },
     "execution_count": 260,
     "metadata": {},
     "output_type": "execute_result"
    }
   ],
   "source": [
    "from sklearn.neighbors import NearestCentroid\n",
    "\n",
    "clf_nc = NearestCentroid()\n",
    "clf_nc.fit(train_x_vectors, train_y)\n",
    "\n",
    "clf_nc.predict(test_x_vectors[0])"
   ]
  },
  {
   "cell_type": "code",
   "execution_count": null,
   "id": "ec5943a6",
   "metadata": {},
   "outputs": [],
   "source": [
    "Classification : Stochastic Gradient Descent"
   ]
  },
  {
   "cell_type": "code",
   "execution_count": 261,
   "id": "aaefa7dc",
   "metadata": {},
   "outputs": [
    {
     "data": {
      "text/plain": [
       "array(['POSITIVE'], dtype='<U8')"
      ]
     },
     "execution_count": 261,
     "metadata": {},
     "output_type": "execute_result"
    }
   ],
   "source": [
    "from sklearn.linear_model import SGDClassifier\n",
    "\n",
    "clf_sgd = SGDClassifier()\n",
    "clf_sgd.fit(train_x_vectors, train_y)\n",
    "\n",
    "clf_sgd.predict(test_x_vectors[0])"
   ]
  },
  {
   "cell_type": "markdown",
   "id": "9bc23aa1",
   "metadata": {},
   "source": [
    "Performance metrics evaluation"
   ]
  },
  {
   "cell_type": "code",
   "execution_count": 262,
   "id": "9531eb2c",
   "metadata": {},
   "outputs": [
    {
     "name": "stdout",
     "output_type": "stream",
     "text": [
      "0.86\n",
      "0.7756666666666666\n",
      "0.7806666666666666\n",
      "0.856\n",
      "0.7126666666666667\n",
      "0.8633333333333333\n"
     ]
    }
   ],
   "source": [
    "#mean accuracy of test labels\n",
    "print(clf_svm.score(test_x_vectors, test_y))\n",
    "print(clf_dectree.score(test_x_vectors, test_y))\n",
    "print(clf_gnb.score(test_x_vectors, test_y))\n",
    "print(clf_logreg.score(test_x_vectors, test_y))\n",
    "print(clf_nc.score(test_x_vectors, test_y))\n",
    "print(clf_sgd.score(test_x_vectors, test_y))"
   ]
  },
  {
   "cell_type": "code",
   "execution_count": 263,
   "id": "bd3b7353",
   "metadata": {},
   "outputs": [
    {
     "name": "stdout",
     "output_type": "stream",
     "text": [
      "[0.9265058  0.13855422 0.35146444]\n",
      "[0.87878788 0.22018349 0.18230563]\n",
      "[0.88454776 0.18994413 0.15697674]\n",
      "[0.92471931 0.15606936 0.26244344]\n",
      "[0.83477107 0.3266129  0.36550308]\n",
      "[0.93101514 0.23036649 0.41635688]\n"
     ]
    }
   ],
   "source": [
    "#f1 scores\n",
    "from sklearn.metrics import f1_score\n",
    "\n",
    "print(f1_score(test_y,clf_svm.predict(test_x_vectors),average = None, labels = [Sentiment.POSITIVE, Sentiment.NEUTRAL, Sentiment.NEGATIVE]))\n",
    "print(f1_score(test_y,clf_dectree.predict(test_x_vectors),average = None, labels = [Sentiment.POSITIVE, Sentiment.NEUTRAL, Sentiment.NEGATIVE]))\n",
    "print(f1_score(test_y,clf_gnb.predict(test_x_vectors),average = None, labels = [Sentiment.POSITIVE, Sentiment.NEUTRAL, Sentiment.NEGATIVE]))\n",
    "print(f1_score(test_y,clf_logreg.predict(test_x_vectors),average = None, labels = [Sentiment.POSITIVE, Sentiment.NEUTRAL, Sentiment.NEGATIVE]))\n",
    "print(f1_score(test_y,clf_nc.predict(test_x_vectors),average = None, labels = [Sentiment.POSITIVE, Sentiment.NEUTRAL, Sentiment.NEGATIVE]))\n",
    "print(f1_score(test_y,clf_sgd.predict(test_x_vectors),average = None, labels = [Sentiment.POSITIVE, Sentiment.NEUTRAL, Sentiment.NEGATIVE]))\n"
   ]
  },
  {
   "cell_type": "code",
   "execution_count": 264,
   "id": "3715b80a",
   "metadata": {
    "scrolled": true
   },
   "outputs": [
    {
     "name": "stdout",
     "output_type": "stream",
     "text": [
      "5854\n",
      "461\n",
      "685\n"
     ]
    }
   ],
   "source": [
    "print(train_y.count(Sentiment.POSITIVE))\n",
    "print(train_y.count(Sentiment.NEGATIVE))\n",
    "print(train_y.count(Sentiment.NEUTRAL))\n"
   ]
  },
  {
   "cell_type": "code",
   "execution_count": 265,
   "id": "5520eafa",
   "metadata": {},
   "outputs": [
    {
     "name": "stdout",
     "output_type": "stream",
     "text": [
      "['POSITIVE' 'NEGATIVE' 'NEGATIVE']\n",
      "['POSITIVE' 'POSITIVE' 'POSITIVE']\n",
      "['POSITIVE' 'POSITIVE' 'POSITIVE']\n",
      "['POSITIVE' 'POSITIVE' 'POSITIVE']\n",
      "['POSITIVE' 'NEGATIVE' 'POSITIVE']\n",
      "['POSITIVE' 'NEGATIVE' 'POSITIVE']\n"
     ]
    }
   ],
   "source": [
    "test_set = ['great book','bad book', 'horrible']\n",
    "new_test = vectorizer.transform(test_set)\n",
    "\n",
    "print(clf_svm.predict(new_test))\n",
    "print(clf_dectree.predict(new_test))\n",
    "print(clf_gnb.predict(new_test))\n",
    "print(clf_logreg.predict(new_test))\n",
    "print(clf_nc.predict(new_test))\n",
    "print(clf_sgd.predict(new_test))"
   ]
  },
  {
   "cell_type": "code",
   "execution_count": null,
   "id": "7be06bec",
   "metadata": {},
   "outputs": [],
   "source": [
    "Saving Model"
   ]
  },
  {
   "cell_type": "code",
   "execution_count": 266,
   "id": "f5828a7d",
   "metadata": {},
   "outputs": [],
   "source": [
    "import pickle\n",
    "\n",
    "with open ('./models/sentiment_classifier.pkl', 'wb') as f:\n",
    "    pickle.dump(clf_svm, f)\n",
    "    pickle.dump(clf_dectree, f)\n",
    "    pickle.dump(clf_gnb, f)\n",
    "    pickle.dump(clf_logreg, f)\n",
    "    pickle.dump(clf_nc, f)\n",
    "    pickle.dump(clf_sgd, f)"
   ]
  },
  {
   "cell_type": "code",
   "execution_count": 267,
   "id": "e9787d0d",
   "metadata": {},
   "outputs": [],
   "source": [
    "with open ('./models/sentiment_classifier.pkl', 'rb') as f:\n",
    "    loaded_clf = pickle.load(f)"
   ]
  },
  {
   "cell_type": "code",
   "execution_count": 268,
   "id": "cb31cd3e",
   "metadata": {},
   "outputs": [
    {
     "name": "stdout",
     "output_type": "stream",
     "text": [
      "was sent an Arc of this book for an honest review and here it is = This is the kind of book that you want to read while sitting in front of the fire with a cup of hot apple cider and a blanket over your legs.I have read many of Jaci Burton's books and have never been disappointed. This first book in her new Hope series does not disappoint either.This is the story of Emma, a new vet who has come back home to open her own practice and Luke McCormack, a police officer in the same town.Both have been previously burned by love so both have issues but, that doesn't stop them from acting on that attraction.This book pulls you in from the first page, wraps you up and doesn't let you go until the end.I loved it!\n"
     ]
    },
    {
     "data": {
      "text/plain": [
       "array(['POSITIVE'], dtype='<U8')"
      ]
     },
     "execution_count": 268,
     "metadata": {},
     "output_type": "execute_result"
    }
   ],
   "source": [
    "print(test_x[0])\n",
    "loaded_clf.predict(test_x_vectors[0])"
   ]
  }
 ],
 "metadata": {
  "kernelspec": {
   "display_name": "Python 3 (ipykernel)",
   "language": "python",
   "name": "python3"
  },
  "language_info": {
   "codemirror_mode": {
    "name": "ipython",
    "version": 3
   },
   "file_extension": ".py",
   "mimetype": "text/x-python",
   "name": "python",
   "nbconvert_exporter": "python",
   "pygments_lexer": "ipython3",
   "version": "3.9.7"
  }
 },
 "nbformat": 4,
 "nbformat_minor": 5
}
